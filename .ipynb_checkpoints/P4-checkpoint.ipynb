{
 "cells": [
  {
   "cell_type": "code",
   "execution_count": null,
   "metadata": {},
   "outputs": [],
   "source": [
    "import csv\n",
    "import matplotlib.image as mpimg\n",
    "import matplotlib.pyplot as plt\n",
    "import numpy as np"
   ]
  },
  {
   "cell_type": "code",
   "execution_count": null,
   "metadata": {},
   "outputs": [],
   "source": [
    "import os\n",
    "import csv\n",
    "\n",
    "samples = []\n",
    "with open('./data/driving_log.csv') as csvfile:\n",
    "    reader = csv.reader(csvfile)\n",
    "    for line in reader:\n",
    "        samples.append(line)"
   ]
  },
  {
   "cell_type": "code",
   "execution_count": null,
   "metadata": {},
   "outputs": [],
   "source": [
    "from sklearn.model_selection import train_test_split\n",
    "train_samples, validation_samples = train_test_split(samples, test_size=0.2)\n",
    "\n",
    "import sklearn\n",
    "from random import shuffle\n",
    "\n",
    "def generator(samples, batch_size=32):\n",
    "    num_samples = len(samples)\n",
    "    while 1: # Loop forever so the generator never terminates\n",
    "        shuffle(samples) # Shuffle once\n",
    "        for i in range(3): # Loop for left, right and center images\n",
    "            for j in range(2): # Loop for left and right images\n",
    "                for offset in range(0, num_samples, batch_size):\n",
    "                    batch_samples = samples[offset:offset+batch_size]\n",
    "\n",
    "                    images = []\n",
    "                    angles = []\n",
    "                    \n",
    "                    for batch_sample in batch_samples:\n",
    "                        name = './data/IMG/'+ batch_sample[i].split('/')[-1]\n",
    "                        image = mpimg.imread(name)\n",
    "                        angle = float(batch_sample[3])\n",
    "                        if(i == 1):\n",
    "                            angle = angle - 0.2\n",
    "                        if(i == 2):\n",
    "                            angle = angle + 0.2\n",
    "                        if(j == 1):\n",
    "                            image = np.fliplr(image)\n",
    "                            angle = -angle\n",
    "                        images.append(image)\n",
    "                        angles.append(angle)\n",
    "\n",
    "                    # trim image to only see section with road\n",
    "                    X_train = np.array(images)\n",
    "                    y_train = np.array(angles)\n",
    "                    yield sklearn.utils.shuffle(X_train, y_train)"
   ]
  },
  {
   "cell_type": "code",
   "execution_count": null,
   "metadata": {},
   "outputs": [],
   "source": [
    "# Set our batch size\n",
    "batch_size=32\n",
    "\n",
    "# compile and train the model using the generator function\n",
    "train_generator = generator(train_samples, batch_size=batch_size)\n",
    "validation_generator = generator(validation_samples, batch_size=batch_size)\n",
    "\n",
    "from keras.models import Sequential\n",
    "from keras.layers import *\n",
    "from math import ceil\n",
    "\n",
    "model = Sequential()\n",
    "model.add(Lambda(lambda x: x/127.5 - 1., input_shape=(160, 320, 3)))\n",
    "model.add(Cropping2D(cropping=((70,30),(0,0))))\n",
    "model.add(Conv2D(24,5,strides=(1,1),activation='relu'))\n",
    "model.add(Dropout(0.75))\n",
    "model.add(Conv2D(36,5,strides=(1,1),activation='relu'))\n",
    "model.add(Dropout(0.75))\n",
    "model.add(Conv2D(48,5,strides=(1,1),activation='relu'))\n",
    "model.add(Dropout(0.75))\n",
    "model.add(Conv2D(64,3,strides=(1,1),activation='relu'))\n",
    "model.add(Dropout(0.75))\n",
    "model.add(Conv2D(64,3,strides=(1,1),activation='relu'))\n",
    "model.add(Dropout(0.75))\n",
    "model.add(Flatten())\n",
    "model.add(Dense(100))\n",
    "model.add(Dense(50))\n",
    "model.add(Dense(10))\n",
    "model.add(Dense(1))\n",
    "\n",
    "model.compile(loss='mse', optimizer='adam')\n",
    "\n",
    "model.fit_generator(train_generator,\n",
    "            steps_per_epoch=ceil(len(train_samples)*6/batch_size),\n",
    "            validation_data=validation_generator,\n",
    "            validation_steps=ceil(len(validation_samples)*6/batch_size),\n",
    "            epochs=3, verbose=1)\n",
    "\n",
    "model.save('model.h5')"
   ]
  }
 ],
 "metadata": {
  "kernelspec": {
   "display_name": "Python 3",
   "language": "python",
   "name": "python3"
  },
  "language_info": {
   "codemirror_mode": {
    "name": "ipython",
    "version": 3
   },
   "file_extension": ".py",
   "mimetype": "text/x-python",
   "name": "python",
   "nbconvert_exporter": "python",
   "pygments_lexer": "ipython3",
   "version": "3.6.10"
  }
 },
 "nbformat": 4,
 "nbformat_minor": 4
}
